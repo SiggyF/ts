{
 "cells": [
  {
   "cell_type": "code",
   "execution_count": 146,
   "metadata": {
    "collapsed": true
   },
   "outputs": [],
   "source": [
    "import datetime\n",
    "import json \n",
    "\n",
    "import netCDF4\n",
    "import pandas\n",
    "import numpy as np\n",
    "import dateutil.parser"
   ]
  },
  {
   "cell_type": "code",
   "execution_count": 156,
   "metadata": {
    "collapsed": false
   },
   "outputs": [],
   "source": [
    "def load_timeseries(filename='id1-DELFZL.nc'):\n",
    "    ds = netCDF4.Dataset(filename)\n",
    "    dates = netCDF4.num2date(ds.variables['time'][:], ds.variables['time'].units)\n",
    "    # convert to integer value representing the number of milliseconds since 1 January 1970 00:00:00 UTC \n",
    "    h = ds.variables['sea_surface_height'][0,:]\n",
    "    ds.close()\n",
    "    ts = pandas.TimeSeries(data=h, index=dates)\n",
    "    return ts"
   ]
  },
  {
   "cell_type": "code",
   "execution_count": 157,
   "metadata": {
    "collapsed": false
   },
   "outputs": [],
   "source": [
    "def make_levels(timeseries):\n",
    "    # resample timeseries into 10 minutes, hours days, seconds, minutes, using mean and padding\n",
    "    levels = {}\n",
    "    levels['r'] = ts.dropna()\n",
    "    levels['m'] = ts.resample('600s', how='mean', label='left', convention='s', fill_method='pad')\n",
    "    levels['H'] = ts.resample('H', how='mean', convention='s', fill_method='pad')\n",
    "    levels['D'] = ts.resample('D', how='mean', convention='s', fill_method='pad')\n",
    "    levels['M'] = ts.resample('M', how='mean', label='left', loffset='1d')\n",
    "    levels['A'] = ts.resample('A', how='mean', label='left', loffset='1d')\n",
    "    return levels"
   ]
  },
  {
   "cell_type": "code",
   "execution_count": 78,
   "metadata": {
    "collapsed": false
   },
   "outputs": [],
   "source": [
    "\n"
   ]
  },
  {
   "cell_type": "code",
   "execution_count": 151,
   "metadata": {
    "collapsed": false
   },
   "outputs": [],
   "source": [
    "def choose_level(start, end):\n",
    "    timediff = end - start \n",
    "    seconds = timediff.total_seconds()\n",
    "    seconds *= 0.8\n",
    "    if seconds > 60 * 60 * 24 * 365 * 10:\n",
    "        # decades, return annual data\n",
    "        return 'A'\n",
    "    elif seconds > 60 * 60 * 24 * 365 :\n",
    "        # years return monthly data\n",
    "        return 'M'\n",
    "    elif seconds > 60 * 60 * 24 * 31 :\n",
    "        # months, return daily data\n",
    "        return 'D'\n",
    "    elif seconds > 60 * 60 * 24  :\n",
    "        # days, return minutes\n",
    "        return 'm'\n",
    "    # or return raw data\n",
    "    return 'r'\n",
    "def subset(start, end):\n",
    "    start = dateutil.parser.parse(start)\n",
    "    end = dateutil.parser.parse(end)\n",
    "    level_key = choose_level(start, end)\n",
    "    level = levels[level_key]\n",
    "    idx = np.logical_and(level.index >= start, level.index < end )\n",
    "    return level.ix[idx]\n",
    "def subset2txt(timeseries):\n",
    "    \"\"\"convert timeseries to json compatbile format\"\"\"\n",
    "    # convert to json compatbile format\n",
    "    data = [\n",
    "        {\"t\":t.value/1e6, \"h\": float(h)} \n",
    "         for t, h \n",
    "         in timeseries.iteritems()\n",
    "    ]\n",
    "    txt = json.dumps(data)\n",
    "    return txt\n",
    "\n"
   ]
  },
  {
   "cell_type": "code",
   "execution_count": 159,
   "metadata": {
    "collapsed": true
   },
   "outputs": [],
   "source": [
    "# this is a bit slow but only done once\n",
    "timeseries = load_timeseries()\n",
    "levels = make_levels(timeseries)"
   ]
  },
  {
   "cell_type": "code",
   "execution_count": 160,
   "metadata": {
    "collapsed": false
   },
   "outputs": [
    {
     "name": "stdout",
     "output_type": "stream",
     "text": [
      "1000 loops, best of 3: 623 µs per loop\n"
     ]
    }
   ],
   "source": [
    "%%timeit\n",
    "selection = subset('2000-01-01', '2000-03-01')\n",
    "subset2txt(selection)\n",
    "\n"
   ]
  },
  {
   "cell_type": "code",
   "execution_count": null,
   "metadata": {
    "collapsed": true
   },
   "outputs": [],
   "source": []
  }
 ],
 "metadata": {
  "kernelspec": {
   "display_name": "Python 2",
   "language": "python",
   "name": "python2"
  },
  "language_info": {
   "codemirror_mode": {
    "name": "ipython",
    "version": 2
   },
   "file_extension": ".py",
   "mimetype": "text/x-python",
   "name": "python",
   "nbconvert_exporter": "python",
   "pygments_lexer": "ipython2",
   "version": "2.7.9"
  }
 },
 "nbformat": 4,
 "nbformat_minor": 0
}
