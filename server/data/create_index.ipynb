{
 "cells": [
  {
   "cell_type": "code",
   "execution_count": 1,
   "metadata": {
    "collapsed": false
   },
   "outputs": [],
   "source": [
    "import datetime\n",
    "import json \n",
    "import logging\n",
    "logging.root.setLevel(logging.DEBUG)\n",
    "import netCDF4\n",
    "import pandas\n",
    "import numpy as np\n",
    "import dateutil.parser"
   ]
  },
  {
   "cell_type": "code",
   "execution_count": 2,
   "metadata": {
    "collapsed": true
   },
   "outputs": [],
   "source": [
    "filename = 'id1-VLISSGN-indexed.nc'\n"
   ]
  },
  {
   "cell_type": "code",
   "execution_count": 3,
   "metadata": {
    "collapsed": false
   },
   "outputs": [
    {
     "name": "stdout",
     "output_type": "stream",
     "text": [
      "copying global attributes ..\n",
      "copying dimensions ..\n",
      "copying variable platform_id\n",
      "copying variable platform_name\n",
      "copying variable lon\n",
      "copying variable lat\n",
      "copying variable wgs84\n",
      "copying variable epsg\n",
      "copying variable x\n",
      "copying variable y\n",
      "copying variable z\n",
      "copying variable time\n",
      "copying variable sea_surface_height\n"
     ]
    }
   ],
   "source": [
    "%%bash\n",
    "nc3tonc4 -o --classic 0 id1-VLISSGN.nc id1-VLISSGN-indexed.nc"
   ]
  },
  {
   "cell_type": "code",
   "execution_count": 4,
   "metadata": {
    "collapsed": false
   },
   "outputs": [],
   "source": [
    "ds = netCDF4.Dataset(filename)\n",
    "dates = netCDF4.num2date(\n",
    "        ds.variables['time'][:],\n",
    "        ds.variables['time'].units\n",
    ")\n",
    "# convert to integer value representing the number of\n",
    "# milliseconds since 1 January 1970 00:00:00 UTC\n",
    "h = ds.variables['sea_surface_height'][0, :]\n",
    "ds.close()\n",
    "ts = pandas.TimeSeries(data=h, index=dates)"
   ]
  },
  {
   "cell_type": "code",
   "execution_count": 5,
   "metadata": {
    "collapsed": false
   },
   "outputs": [
    {
     "name": "stderr",
     "output_type": "stream",
     "text": [
      "DEBUG:root:raw -> 1797800\n",
      "DEBUG:root:AS -> 152\n",
      "DEBUG:root:MS -> 1815\n",
      "DEBUG:root:D -> 55228\n",
      "DEBUG:root:H -> 1325441\n"
     ]
    }
   ],
   "source": [
    "# timeseries without NA\n",
    "ts_na = ts.dropna()\n",
    "offset_aliases = ['AS' ,'MS', 'D', 'H']\n",
    "logging.debug('%s -> %d', 'raw', len(ts_na))\n",
    "indices = {}\n",
    "for alias in offset_aliases:\n",
    "    index = ts_na.resample(alias, how='mean', closed='left')\n",
    "    logging.debug('%s -> %d', alias, len(index))\n",
    "    indices[alias] = index"
   ]
  },
  {
   "cell_type": "code",
   "execution_count": 6,
   "metadata": {
    "collapsed": false
   },
   "outputs": [],
   "source": [
    "units = 'seconds since 1970-01-01'\n",
    "ds = netCDF4.Dataset(filename, 'a')\n",
    "group = ds.createGroup('index')\n",
    "for alias, index in indices.items():\n",
    "    dim = group.createDimension(alias, len(index)) \n",
    "    var = group.createVariable('time_%s' % (alias,), datatype='float64',dimensions=(alias,), zlib=True)\n",
    "    var.units = units\n",
    "    var[:] = netCDF4.date2num(index.index.to_pydatetime(), units=units)\n",
    "    var = group.createVariable('%s' % (alias,), datatype='float64',dimensions=(alias,), zlib=True)\n",
    "    var.cell_method = 'mean'\n",
    "    var.coordinates = 'time_%s' % (alias,)\n",
    "    var[:] = index.values\n",
    "    \n",
    "ds.close()"
   ]
  },
  {
   "cell_type": "code",
   "execution_count": 7,
   "metadata": {
    "collapsed": false
   },
   "outputs": [
    {
     "data": {
      "text/plain": [
       "array([datetime.datetime(1863, 9, 1, 0, 0),\n",
       "       datetime.datetime(1863, 10, 1, 0, 0),\n",
       "       datetime.datetime(1863, 11, 1, 0, 0), ...,\n",
       "       datetime.datetime(2014, 9, 1, 0, 0),\n",
       "       datetime.datetime(2014, 10, 1, 0, 0),\n",
       "       datetime.datetime(2014, 11, 1, 0, 0)], dtype=object)"
      ]
     },
     "execution_count": 7,
     "metadata": {},
     "output_type": "execute_result"
    }
   ],
   "source": []
  },
  {
   "cell_type": "code",
   "execution_count": null,
   "metadata": {
    "collapsed": true
   },
   "outputs": [],
   "source": []
  }
 ],
 "metadata": {
  "kernelspec": {
   "display_name": "Python 2",
   "language": "python",
   "name": "python2"
  },
  "language_info": {
   "codemirror_mode": {
    "name": "ipython",
    "version": 2
   },
   "file_extension": ".py",
   "mimetype": "text/x-python",
   "name": "python",
   "nbconvert_exporter": "python",
   "pygments_lexer": "ipython2",
   "version": "2.7.9"
  }
 },
 "nbformat": 4,
 "nbformat_minor": 0
}
